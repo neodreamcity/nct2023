{
 "cells": [
  {
   "cell_type": "code",
   "execution_count": 1,
   "metadata": {},
   "outputs": [],
   "source": [
    "import pandas as pd\n",
    "import numpy as np"
   ]
  },
  {
   "cell_type": "code",
   "execution_count": 2,
   "metadata": {},
   "outputs": [],
   "source": [
    "#任务1：将列表转化为numpy数组\n",
    "data0 = [1,2,7]\n",
    "arr0 = np.array(data0)"
   ]
  },
  {
   "cell_type": "code",
   "execution_count": 3,
   "metadata": {},
   "outputs": [],
   "source": [
    "#任务2：新建pandas中的series数据类型，打印其大小、索引值、值\n",
    "s = pd.Series(data=[100,'a',{'dic1':5}],\n",
    "              index=pd.Index(['id1',20,'third'],name='my_idx'),\n",
    "              dtype='object',\n",
    "              name='my_name')"
   ]
  },
  {
   "cell_type": "code",
   "execution_count": 4,
   "metadata": {},
   "outputs": [],
   "source": [
    "s2 = pd.Series([\"1\",\"2\",\"7\"])"
   ]
  },
  {
   "cell_type": "code",
   "execution_count": 5,
   "metadata": {},
   "outputs": [
    {
     "data": {
      "text/plain": [
       "array([0, 1, 2], dtype=int64)"
      ]
     },
     "execution_count": 5,
     "metadata": {},
     "output_type": "execute_result"
    }
   ],
   "source": [
    "s2.index.values"
   ]
  },
  {
   "cell_type": "code",
   "execution_count": 6,
   "metadata": {},
   "outputs": [
    {
     "data": {
      "text/plain": [
       "str"
      ]
     },
     "execution_count": 6,
     "metadata": {},
     "output_type": "execute_result"
    }
   ],
   "source": [
    "type(s2.values[0])"
   ]
  },
  {
   "cell_type": "code",
   "execution_count": 7,
   "metadata": {},
   "outputs": [
    {
     "data": {
      "text/plain": [
       "3"
      ]
     },
     "execution_count": 7,
     "metadata": {},
     "output_type": "execute_result"
    }
   ],
   "source": [
    "s2.size"
   ]
  },
  {
   "cell_type": "code",
   "execution_count": 8,
   "metadata": {},
   "outputs": [
    {
     "data": {
      "text/plain": [
       "(3,)"
      ]
     },
     "execution_count": 8,
     "metadata": {},
     "output_type": "execute_result"
    }
   ],
   "source": [
    "s2.shape"
   ]
  },
  {
   "cell_type": "code",
   "execution_count": 9,
   "metadata": {},
   "outputs": [],
   "source": [
    "#任务3；创建dataframe类型的数据，并获取其索引、值及表大小\n",
    "#\"one\"字符串 df=……为赋值表达式，返回函数值\n",
    "d = {\"one\":pd.Series([1.0,2.0,3.0],index=[\"a\",\"b\",\"c\"]),\n",
    "    \"two\":pd.Series([1.0,2.0,3.0,4.0],index=[\"a\",\"b\",\"c\",\"d\"]),}\n",
    "df =pd.DataFrame(d)"
   ]
  },
  {
   "cell_type": "code",
   "execution_count": 10,
   "metadata": {},
   "outputs": [],
   "source": [
    "d1 ={\"作者\":pd.Series(['余华','残雪','莫言']),\n",
    "     \"作品\":pd.Series(['活着','暗夜','红高粱']),\n",
    "     \"价格\":pd.Series([35,27,38]),\n",
    "     }\n",
    "df2=pd.DataFrame(d1)"
   ]
  },
  {
   "cell_type": "code",
   "execution_count": 11,
   "metadata": {},
   "outputs": [
    {
     "data": {
      "text/plain": [
       "0     活着\n",
       "1     暗夜\n",
       "2    红高粱\n",
       "Name: 作品, dtype: object"
      ]
     },
     "execution_count": 11,
     "metadata": {},
     "output_type": "execute_result"
    }
   ],
   "source": [
    "df2['作品']"
   ]
  },
  {
   "cell_type": "code",
   "execution_count": 12,
   "metadata": {},
   "outputs": [],
   "source": [
    "贵州茅台原始数据=pd.read_csv(R'600519.csv')"
   ]
  },
  {
   "cell_type": "code",
   "execution_count": 13,
   "metadata": {},
   "outputs": [
    {
     "data": {
      "text/plain": [
       "0        1410347008\n",
       "1         463463008\n",
       "2         194689000\n",
       "3         177558000\n",
       "4          86231000\n",
       "           ...     \n",
       "4089     2694714080\n",
       "4090    10663392512\n",
       "4091     5239853056\n",
       "4092     5581027328\n",
       "4093     5227695104\n",
       "Name: TURNOVER, Length: 4094, dtype: int64"
      ]
     },
     "execution_count": 13,
     "metadata": {},
     "output_type": "execute_result"
    }
   ],
   "source": [
    "#按列查询数据\n",
    "贵州茅台原始数据['TURNOVER']"
   ]
  },
  {
   "cell_type": "code",
   "execution_count": 14,
   "metadata": {},
   "outputs": [
    {
     "data": {
      "text/html": [
       "<div>\n",
       "<style scoped>\n",
       "    .dataframe tbody tr th:only-of-type {\n",
       "        vertical-align: middle;\n",
       "    }\n",
       "\n",
       "    .dataframe tbody tr th {\n",
       "        vertical-align: top;\n",
       "    }\n",
       "\n",
       "    .dataframe thead th {\n",
       "        text-align: right;\n",
       "    }\n",
       "</style>\n",
       "<table border=\"1\" class=\"dataframe\">\n",
       "  <thead>\n",
       "    <tr style=\"text-align: right;\">\n",
       "      <th></th>\n",
       "      <th>TURNOVER</th>\n",
       "      <th>volume</th>\n",
       "    </tr>\n",
       "  </thead>\n",
       "  <tbody>\n",
       "    <tr>\n",
       "      <th>0</th>\n",
       "      <td>1410347008</td>\n",
       "      <td>406318</td>\n",
       "    </tr>\n",
       "    <tr>\n",
       "      <th>1</th>\n",
       "      <td>463463008</td>\n",
       "      <td>129647</td>\n",
       "    </tr>\n",
       "    <tr>\n",
       "      <th>2</th>\n",
       "      <td>194689000</td>\n",
       "      <td>53252</td>\n",
       "    </tr>\n",
       "    <tr>\n",
       "      <th>3</th>\n",
       "      <td>177558000</td>\n",
       "      <td>48013</td>\n",
       "    </tr>\n",
       "    <tr>\n",
       "      <th>4</th>\n",
       "      <td>86231000</td>\n",
       "      <td>23231</td>\n",
       "    </tr>\n",
       "    <tr>\n",
       "      <th>...</th>\n",
       "      <td>...</td>\n",
       "      <td>...</td>\n",
       "    </tr>\n",
       "    <tr>\n",
       "      <th>4089</th>\n",
       "      <td>2694714080</td>\n",
       "      <td>49076</td>\n",
       "    </tr>\n",
       "    <tr>\n",
       "      <th>4090</th>\n",
       "      <td>10663392512</td>\n",
       "      <td>204397</td>\n",
       "    </tr>\n",
       "    <tr>\n",
       "      <th>4091</th>\n",
       "      <td>5239853056</td>\n",
       "      <td>96885</td>\n",
       "    </tr>\n",
       "    <tr>\n",
       "      <th>4092</th>\n",
       "      <td>5581027328</td>\n",
       "      <td>98107</td>\n",
       "    </tr>\n",
       "    <tr>\n",
       "      <th>4093</th>\n",
       "      <td>5227695104</td>\n",
       "      <td>89157</td>\n",
       "    </tr>\n",
       "  </tbody>\n",
       "</table>\n",
       "<p>4094 rows × 2 columns</p>\n",
       "</div>"
      ],
      "text/plain": [
       "         TURNOVER  volume\n",
       "0      1410347008  406318\n",
       "1       463463008  129647\n",
       "2       194689000   53252\n",
       "3       177558000   48013\n",
       "4        86231000   23231\n",
       "...           ...     ...\n",
       "4089   2694714080   49076\n",
       "4090  10663392512  204397\n",
       "4091   5239853056   96885\n",
       "4092   5581027328   98107\n",
       "4093   5227695104   89157\n",
       "\n",
       "[4094 rows x 2 columns]"
      ]
     },
     "execution_count": 14,
     "metadata": {},
     "output_type": "execute_result"
    }
   ],
   "source": [
    "贵州茅台原始数据[['TURNOVER','volume']]"
   ]
  },
  {
   "cell_type": "code",
   "execution_count": 15,
   "metadata": {},
   "outputs": [],
   "source": [
    "#按行索引\n",
    "贵州茅台=贵州茅台原始数据.set_index('day')"
   ]
  },
  {
   "cell_type": "code",
   "execution_count": 16,
   "metadata": {},
   "outputs": [
    {
     "data": {
      "text/plain": [
       "day           2001-08-27\n",
       "STOCK_CODE       6005191\n",
       "open               34.51\n",
       "close              35.55\n",
       "maximum            37.78\n",
       "minimum            32.85\n",
       "volume            406318\n",
       "TURNOVER      1410347008\n",
       "Name: 0, dtype: object"
      ]
     },
     "execution_count": 16,
     "metadata": {},
     "output_type": "execute_result"
    }
   ],
   "source": [
    "贵州茅台原始数据.loc[0]"
   ]
  },
  {
   "cell_type": "code",
   "execution_count": 17,
   "metadata": {},
   "outputs": [
    {
     "data": {
      "text/plain": [
       "STOCK_CODE    6.005191e+06\n",
       "open          3.451000e+01\n",
       "close         3.555000e+01\n",
       "maximum       3.778000e+01\n",
       "minimum       3.285000e+01\n",
       "volume        4.063180e+05\n",
       "TURNOVER      1.410347e+09\n",
       "Name: 2001-08-27, dtype: float64"
      ]
     },
     "execution_count": 17,
     "metadata": {},
     "output_type": "execute_result"
    }
   ],
   "source": [
    "#单个元素 loc索引器\n",
    "贵州茅台.loc['2001-08-27']"
   ]
  },
  {
   "cell_type": "code",
   "execution_count": 18,
   "metadata": {},
   "outputs": [
    {
     "data": {
      "text/plain": [
       "open     34.51\n",
       "close    35.55\n",
       "Name: 2001-08-27, dtype: float64"
      ]
     },
     "execution_count": 18,
     "metadata": {},
     "output_type": "execute_result"
    }
   ],
   "source": [
    "贵州茅台.loc['2001-08-27',['open','close']]"
   ]
  },
  {
   "cell_type": "code",
   "execution_count": 19,
   "metadata": {},
   "outputs": [
    {
     "data": {
      "text/html": [
       "<div>\n",
       "<style scoped>\n",
       "    .dataframe tbody tr th:only-of-type {\n",
       "        vertical-align: middle;\n",
       "    }\n",
       "\n",
       "    .dataframe tbody tr th {\n",
       "        vertical-align: top;\n",
       "    }\n",
       "\n",
       "    .dataframe thead th {\n",
       "        text-align: right;\n",
       "    }\n",
       "</style>\n",
       "<table border=\"1\" class=\"dataframe\">\n",
       "  <thead>\n",
       "    <tr style=\"text-align: right;\">\n",
       "      <th></th>\n",
       "      <th>STOCK_CODE</th>\n",
       "      <th>open</th>\n",
       "      <th>close</th>\n",
       "      <th>maximum</th>\n",
       "      <th>minimum</th>\n",
       "      <th>volume</th>\n",
       "      <th>TURNOVER</th>\n",
       "    </tr>\n",
       "    <tr>\n",
       "      <th>day</th>\n",
       "      <th></th>\n",
       "      <th></th>\n",
       "      <th></th>\n",
       "      <th></th>\n",
       "      <th></th>\n",
       "      <th></th>\n",
       "      <th></th>\n",
       "    </tr>\n",
       "  </thead>\n",
       "  <tbody>\n",
       "    <tr>\n",
       "      <th>2001-08-27</th>\n",
       "      <td>6005191</td>\n",
       "      <td>34.51</td>\n",
       "      <td>35.55</td>\n",
       "      <td>37.78</td>\n",
       "      <td>32.85</td>\n",
       "      <td>406318</td>\n",
       "      <td>1410347008</td>\n",
       "    </tr>\n",
       "    <tr>\n",
       "      <th>2001-08-28</th>\n",
       "      <td>6005191</td>\n",
       "      <td>34.99</td>\n",
       "      <td>36.86</td>\n",
       "      <td>37.00</td>\n",
       "      <td>34.61</td>\n",
       "      <td>129647</td>\n",
       "      <td>463463008</td>\n",
       "    </tr>\n",
       "    <tr>\n",
       "      <th>2001-08-29</th>\n",
       "      <td>6005191</td>\n",
       "      <td>36.98</td>\n",
       "      <td>36.38</td>\n",
       "      <td>37.00</td>\n",
       "      <td>36.10</td>\n",
       "      <td>53252</td>\n",
       "      <td>194689000</td>\n",
       "    </tr>\n",
       "    <tr>\n",
       "      <th>2001-08-30</th>\n",
       "      <td>6005191</td>\n",
       "      <td>36.28</td>\n",
       "      <td>37.10</td>\n",
       "      <td>37.51</td>\n",
       "      <td>36.00</td>\n",
       "      <td>48013</td>\n",
       "      <td>177558000</td>\n",
       "    </tr>\n",
       "    <tr>\n",
       "      <th>2001-08-31</th>\n",
       "      <td>6005191</td>\n",
       "      <td>37.15</td>\n",
       "      <td>37.01</td>\n",
       "      <td>37.62</td>\n",
       "      <td>36.80</td>\n",
       "      <td>23231</td>\n",
       "      <td>86231000</td>\n",
       "    </tr>\n",
       "    <tr>\n",
       "      <th>...</th>\n",
       "      <td>...</td>\n",
       "      <td>...</td>\n",
       "      <td>...</td>\n",
       "      <td>...</td>\n",
       "      <td>...</td>\n",
       "      <td>...</td>\n",
       "      <td>...</td>\n",
       "    </tr>\n",
       "    <tr>\n",
       "      <th>2018-08-30</th>\n",
       "      <td>6005191</td>\n",
       "      <td>688.21</td>\n",
       "      <td>680.40</td>\n",
       "      <td>692.60</td>\n",
       "      <td>679.01</td>\n",
       "      <td>33788</td>\n",
       "      <td>2312993216</td>\n",
       "    </tr>\n",
       "    <tr>\n",
       "      <th>2018-08-31</th>\n",
       "      <td>6005191</td>\n",
       "      <td>676.25</td>\n",
       "      <td>659.19</td>\n",
       "      <td>677.00</td>\n",
       "      <td>656.50</td>\n",
       "      <td>58981</td>\n",
       "      <td>3911486176</td>\n",
       "    </tr>\n",
       "    <tr>\n",
       "      <th>2018-09-03</th>\n",
       "      <td>6005191</td>\n",
       "      <td>652.00</td>\n",
       "      <td>666.21</td>\n",
       "      <td>667.67</td>\n",
       "      <td>650.80</td>\n",
       "      <td>30180</td>\n",
       "      <td>1992654928</td>\n",
       "    </tr>\n",
       "    <tr>\n",
       "      <th>2018-09-04</th>\n",
       "      <td>6005191</td>\n",
       "      <td>666.80</td>\n",
       "      <td>675.04</td>\n",
       "      <td>676.00</td>\n",
       "      <td>661.60</td>\n",
       "      <td>21540</td>\n",
       "      <td>1441658192</td>\n",
       "    </tr>\n",
       "    <tr>\n",
       "      <th>2018-09-05</th>\n",
       "      <td>6005191</td>\n",
       "      <td>675.00</td>\n",
       "      <td>657.79</td>\n",
       "      <td>676.99</td>\n",
       "      <td>657.00</td>\n",
       "      <td>28983</td>\n",
       "      <td>1927600144</td>\n",
       "    </tr>\n",
       "  </tbody>\n",
       "</table>\n",
       "<p>4058 rows × 7 columns</p>\n",
       "</div>"
      ],
      "text/plain": [
       "            STOCK_CODE    open   close  maximum  minimum  volume    TURNOVER\n",
       "day                                                                         \n",
       "2001-08-27     6005191   34.51   35.55    37.78    32.85  406318  1410347008\n",
       "2001-08-28     6005191   34.99   36.86    37.00    34.61  129647   463463008\n",
       "2001-08-29     6005191   36.98   36.38    37.00    36.10   53252   194689000\n",
       "2001-08-30     6005191   36.28   37.10    37.51    36.00   48013   177558000\n",
       "2001-08-31     6005191   37.15   37.01    37.62    36.80   23231    86231000\n",
       "...                ...     ...     ...      ...      ...     ...         ...\n",
       "2018-08-30     6005191  688.21  680.40   692.60   679.01   33788  2312993216\n",
       "2018-08-31     6005191  676.25  659.19   677.00   656.50   58981  3911486176\n",
       "2018-09-03     6005191  652.00  666.21   667.67   650.80   30180  1992654928\n",
       "2018-09-04     6005191  666.80  675.04   676.00   661.60   21540  1441658192\n",
       "2018-09-05     6005191  675.00  657.79   676.99   657.00   28983  1927600144\n",
       "\n",
       "[4058 rows x 7 columns]"
      ]
     },
     "execution_count": 19,
     "metadata": {},
     "output_type": "execute_result"
    }
   ],
   "source": [
    "贵州茅台.loc['2001-08-27':'2018-09-05']"
   ]
  },
  {
   "cell_type": "code",
   "execution_count": 20,
   "metadata": {},
   "outputs": [
    {
     "data": {
      "text/html": [
       "<div>\n",
       "<style scoped>\n",
       "    .dataframe tbody tr th:only-of-type {\n",
       "        vertical-align: middle;\n",
       "    }\n",
       "\n",
       "    .dataframe tbody tr th {\n",
       "        vertical-align: top;\n",
       "    }\n",
       "\n",
       "    .dataframe thead th {\n",
       "        text-align: right;\n",
       "    }\n",
       "</style>\n",
       "<table border=\"1\" class=\"dataframe\">\n",
       "  <thead>\n",
       "    <tr style=\"text-align: right;\">\n",
       "      <th></th>\n",
       "      <th>STOCK_CODE</th>\n",
       "      <th>open</th>\n",
       "      <th>close</th>\n",
       "      <th>maximum</th>\n",
       "      <th>minimum</th>\n",
       "      <th>volume</th>\n",
       "      <th>TURNOVER</th>\n",
       "    </tr>\n",
       "    <tr>\n",
       "      <th>day</th>\n",
       "      <th></th>\n",
       "      <th></th>\n",
       "      <th></th>\n",
       "      <th></th>\n",
       "      <th></th>\n",
       "      <th></th>\n",
       "      <th></th>\n",
       "    </tr>\n",
       "  </thead>\n",
       "  <tbody>\n",
       "    <tr>\n",
       "      <th>2001-10-17</th>\n",
       "      <td>6005191</td>\n",
       "      <td>34.79</td>\n",
       "      <td>34.20</td>\n",
       "      <td>34.81</td>\n",
       "      <td>33.90</td>\n",
       "      <td>12507</td>\n",
       "      <td>42766000</td>\n",
       "    </tr>\n",
       "    <tr>\n",
       "      <th>2001-10-18</th>\n",
       "      <td>6005191</td>\n",
       "      <td>34.20</td>\n",
       "      <td>34.04</td>\n",
       "      <td>34.66</td>\n",
       "      <td>33.91</td>\n",
       "      <td>4983</td>\n",
       "      <td>16999000</td>\n",
       "    </tr>\n",
       "    <tr>\n",
       "      <th>2001-10-19</th>\n",
       "      <td>6005191</td>\n",
       "      <td>34.00</td>\n",
       "      <td>33.50</td>\n",
       "      <td>34.15</td>\n",
       "      <td>33.01</td>\n",
       "      <td>15687</td>\n",
       "      <td>52422000</td>\n",
       "    </tr>\n",
       "    <tr>\n",
       "      <th>2001-10-22</th>\n",
       "      <td>6005191</td>\n",
       "      <td>33.30</td>\n",
       "      <td>32.79</td>\n",
       "      <td>33.70</td>\n",
       "      <td>32.70</td>\n",
       "      <td>9760</td>\n",
       "      <td>32268000</td>\n",
       "    </tr>\n",
       "    <tr>\n",
       "      <th>2001-11-08</th>\n",
       "      <td>6005191</td>\n",
       "      <td>33.35</td>\n",
       "      <td>33.70</td>\n",
       "      <td>33.89</td>\n",
       "      <td>32.98</td>\n",
       "      <td>7402</td>\n",
       "      <td>24682000</td>\n",
       "    </tr>\n",
       "    <tr>\n",
       "      <th>...</th>\n",
       "      <td>...</td>\n",
       "      <td>...</td>\n",
       "      <td>...</td>\n",
       "      <td>...</td>\n",
       "      <td>...</td>\n",
       "      <td>...</td>\n",
       "      <td>...</td>\n",
       "    </tr>\n",
       "    <tr>\n",
       "      <th>2004-09-21</th>\n",
       "      <td>6005191</td>\n",
       "      <td>32.09</td>\n",
       "      <td>32.30</td>\n",
       "      <td>32.98</td>\n",
       "      <td>32.09</td>\n",
       "      <td>8374</td>\n",
       "      <td>27222818</td>\n",
       "    </tr>\n",
       "    <tr>\n",
       "      <th>2004-09-22</th>\n",
       "      <td>6005191</td>\n",
       "      <td>32.03</td>\n",
       "      <td>32.16</td>\n",
       "      <td>32.49</td>\n",
       "      <td>32.03</td>\n",
       "      <td>4348</td>\n",
       "      <td>13965168</td>\n",
       "    </tr>\n",
       "    <tr>\n",
       "      <th>2004-09-23</th>\n",
       "      <td>6005191</td>\n",
       "      <td>32.11</td>\n",
       "      <td>33.42</td>\n",
       "      <td>33.52</td>\n",
       "      <td>32.11</td>\n",
       "      <td>17667</td>\n",
       "      <td>58219692</td>\n",
       "    </tr>\n",
       "    <tr>\n",
       "      <th>2004-09-24</th>\n",
       "      <td>6005191</td>\n",
       "      <td>33.60</td>\n",
       "      <td>34.49</td>\n",
       "      <td>35.89</td>\n",
       "      <td>33.60</td>\n",
       "      <td>30981</td>\n",
       "      <td>108295826</td>\n",
       "    </tr>\n",
       "    <tr>\n",
       "      <th>2004-09-27</th>\n",
       "      <td>6005191</td>\n",
       "      <td>34.95</td>\n",
       "      <td>34.93</td>\n",
       "      <td>35.98</td>\n",
       "      <td>34.50</td>\n",
       "      <td>6067</td>\n",
       "      <td>21339456</td>\n",
       "    </tr>\n",
       "  </tbody>\n",
       "</table>\n",
       "<p>498 rows × 7 columns</p>\n",
       "</div>"
      ],
      "text/plain": [
       "            STOCK_CODE   open  close  maximum  minimum  volume   TURNOVER\n",
       "day                                                                      \n",
       "2001-10-17     6005191  34.79  34.20    34.81    33.90   12507   42766000\n",
       "2001-10-18     6005191  34.20  34.04    34.66    33.91    4983   16999000\n",
       "2001-10-19     6005191  34.00  33.50    34.15    33.01   15687   52422000\n",
       "2001-10-22     6005191  33.30  32.79    33.70    32.70    9760   32268000\n",
       "2001-11-08     6005191  33.35  33.70    33.89    32.98    7402   24682000\n",
       "...                ...    ...    ...      ...      ...     ...        ...\n",
       "2004-09-21     6005191  32.09  32.30    32.98    32.09    8374   27222818\n",
       "2004-09-22     6005191  32.03  32.16    32.49    32.03    4348   13965168\n",
       "2004-09-23     6005191  32.11  33.42    33.52    32.11   17667   58219692\n",
       "2004-09-24     6005191  33.60  34.49    35.89    33.60   30981  108295826\n",
       "2004-09-27     6005191  34.95  34.93    35.98    34.50    6067   21339456\n",
       "\n",
       "[498 rows x 7 columns]"
      ]
     },
     "execution_count": 20,
     "metadata": {},
     "output_type": "execute_result"
    }
   ],
   "source": [
    "条件1=贵州茅台['open']<35\n",
    "条件2=贵州茅台['close']<35\n",
    "布尔列表=条件1&条件2\n",
    "贵州茅台.loc[布尔列表]"
   ]
  },
  {
   "cell_type": "code",
   "execution_count": 21,
   "metadata": {},
   "outputs": [],
   "source": [
    "#使用函数作为索引\n",
    "def condition(pd):\n",
    "    条件1=pd['open']<35\n",
    "    条件2=pd['close']<35\n",
    "    布尔列表=条件1&条件2\n",
    "    return 布尔列表"
   ]
  },
  {
   "cell_type": "code",
   "execution_count": 22,
   "metadata": {},
   "outputs": [
    {
     "data": {
      "text/html": [
       "<div>\n",
       "<style scoped>\n",
       "    .dataframe tbody tr th:only-of-type {\n",
       "        vertical-align: middle;\n",
       "    }\n",
       "\n",
       "    .dataframe tbody tr th {\n",
       "        vertical-align: top;\n",
       "    }\n",
       "\n",
       "    .dataframe thead th {\n",
       "        text-align: right;\n",
       "    }\n",
       "</style>\n",
       "<table border=\"1\" class=\"dataframe\">\n",
       "  <thead>\n",
       "    <tr style=\"text-align: right;\">\n",
       "      <th></th>\n",
       "      <th>STOCK_CODE</th>\n",
       "      <th>open</th>\n",
       "      <th>close</th>\n",
       "      <th>maximum</th>\n",
       "      <th>minimum</th>\n",
       "      <th>volume</th>\n",
       "      <th>TURNOVER</th>\n",
       "    </tr>\n",
       "    <tr>\n",
       "      <th>day</th>\n",
       "      <th></th>\n",
       "      <th></th>\n",
       "      <th></th>\n",
       "      <th></th>\n",
       "      <th></th>\n",
       "      <th></th>\n",
       "      <th></th>\n",
       "    </tr>\n",
       "  </thead>\n",
       "  <tbody>\n",
       "    <tr>\n",
       "      <th>2001-10-17</th>\n",
       "      <td>6005191</td>\n",
       "      <td>34.79</td>\n",
       "      <td>34.20</td>\n",
       "      <td>34.81</td>\n",
       "      <td>33.90</td>\n",
       "      <td>12507</td>\n",
       "      <td>42766000</td>\n",
       "    </tr>\n",
       "    <tr>\n",
       "      <th>2001-10-18</th>\n",
       "      <td>6005191</td>\n",
       "      <td>34.20</td>\n",
       "      <td>34.04</td>\n",
       "      <td>34.66</td>\n",
       "      <td>33.91</td>\n",
       "      <td>4983</td>\n",
       "      <td>16999000</td>\n",
       "    </tr>\n",
       "    <tr>\n",
       "      <th>2001-10-19</th>\n",
       "      <td>6005191</td>\n",
       "      <td>34.00</td>\n",
       "      <td>33.50</td>\n",
       "      <td>34.15</td>\n",
       "      <td>33.01</td>\n",
       "      <td>15687</td>\n",
       "      <td>52422000</td>\n",
       "    </tr>\n",
       "    <tr>\n",
       "      <th>2001-10-22</th>\n",
       "      <td>6005191</td>\n",
       "      <td>33.30</td>\n",
       "      <td>32.79</td>\n",
       "      <td>33.70</td>\n",
       "      <td>32.70</td>\n",
       "      <td>9760</td>\n",
       "      <td>32268000</td>\n",
       "    </tr>\n",
       "    <tr>\n",
       "      <th>2001-11-08</th>\n",
       "      <td>6005191</td>\n",
       "      <td>33.35</td>\n",
       "      <td>33.70</td>\n",
       "      <td>33.89</td>\n",
       "      <td>32.98</td>\n",
       "      <td>7402</td>\n",
       "      <td>24682000</td>\n",
       "    </tr>\n",
       "    <tr>\n",
       "      <th>...</th>\n",
       "      <td>...</td>\n",
       "      <td>...</td>\n",
       "      <td>...</td>\n",
       "      <td>...</td>\n",
       "      <td>...</td>\n",
       "      <td>...</td>\n",
       "      <td>...</td>\n",
       "    </tr>\n",
       "    <tr>\n",
       "      <th>2004-09-21</th>\n",
       "      <td>6005191</td>\n",
       "      <td>32.09</td>\n",
       "      <td>32.30</td>\n",
       "      <td>32.98</td>\n",
       "      <td>32.09</td>\n",
       "      <td>8374</td>\n",
       "      <td>27222818</td>\n",
       "    </tr>\n",
       "    <tr>\n",
       "      <th>2004-09-22</th>\n",
       "      <td>6005191</td>\n",
       "      <td>32.03</td>\n",
       "      <td>32.16</td>\n",
       "      <td>32.49</td>\n",
       "      <td>32.03</td>\n",
       "      <td>4348</td>\n",
       "      <td>13965168</td>\n",
       "    </tr>\n",
       "    <tr>\n",
       "      <th>2004-09-23</th>\n",
       "      <td>6005191</td>\n",
       "      <td>32.11</td>\n",
       "      <td>33.42</td>\n",
       "      <td>33.52</td>\n",
       "      <td>32.11</td>\n",
       "      <td>17667</td>\n",
       "      <td>58219692</td>\n",
       "    </tr>\n",
       "    <tr>\n",
       "      <th>2004-09-24</th>\n",
       "      <td>6005191</td>\n",
       "      <td>33.60</td>\n",
       "      <td>34.49</td>\n",
       "      <td>35.89</td>\n",
       "      <td>33.60</td>\n",
       "      <td>30981</td>\n",
       "      <td>108295826</td>\n",
       "    </tr>\n",
       "    <tr>\n",
       "      <th>2004-09-27</th>\n",
       "      <td>6005191</td>\n",
       "      <td>34.95</td>\n",
       "      <td>34.93</td>\n",
       "      <td>35.98</td>\n",
       "      <td>34.50</td>\n",
       "      <td>6067</td>\n",
       "      <td>21339456</td>\n",
       "    </tr>\n",
       "  </tbody>\n",
       "</table>\n",
       "<p>498 rows × 7 columns</p>\n",
       "</div>"
      ],
      "text/plain": [
       "            STOCK_CODE   open  close  maximum  minimum  volume   TURNOVER\n",
       "day                                                                      \n",
       "2001-10-17     6005191  34.79  34.20    34.81    33.90   12507   42766000\n",
       "2001-10-18     6005191  34.20  34.04    34.66    33.91    4983   16999000\n",
       "2001-10-19     6005191  34.00  33.50    34.15    33.01   15687   52422000\n",
       "2001-10-22     6005191  33.30  32.79    33.70    32.70    9760   32268000\n",
       "2001-11-08     6005191  33.35  33.70    33.89    32.98    7402   24682000\n",
       "...                ...    ...    ...      ...      ...     ...        ...\n",
       "2004-09-21     6005191  32.09  32.30    32.98    32.09    8374   27222818\n",
       "2004-09-22     6005191  32.03  32.16    32.49    32.03    4348   13965168\n",
       "2004-09-23     6005191  32.11  33.42    33.52    32.11   17667   58219692\n",
       "2004-09-24     6005191  33.60  34.49    35.89    33.60   30981  108295826\n",
       "2004-09-27     6005191  34.95  34.93    35.98    34.50    6067   21339456\n",
       "\n",
       "[498 rows x 7 columns]"
      ]
     },
     "execution_count": 22,
     "metadata": {},
     "output_type": "execute_result"
    }
   ],
   "source": [
    "贵州茅台.loc[condition]"
   ]
  },
  {
   "cell_type": "code",
   "execution_count": 23,
   "metadata": {},
   "outputs": [
    {
     "data": {
      "text/html": [
       "<div>\n",
       "<style scoped>\n",
       "    .dataframe tbody tr th:only-of-type {\n",
       "        vertical-align: middle;\n",
       "    }\n",
       "\n",
       "    .dataframe tbody tr th {\n",
       "        vertical-align: top;\n",
       "    }\n",
       "\n",
       "    .dataframe thead th {\n",
       "        text-align: right;\n",
       "    }\n",
       "</style>\n",
       "<table border=\"1\" class=\"dataframe\">\n",
       "  <thead>\n",
       "    <tr style=\"text-align: right;\">\n",
       "      <th></th>\n",
       "      <th>open</th>\n",
       "      <th>close</th>\n",
       "    </tr>\n",
       "    <tr>\n",
       "      <th>day</th>\n",
       "      <th></th>\n",
       "      <th></th>\n",
       "    </tr>\n",
       "  </thead>\n",
       "  <tbody>\n",
       "    <tr>\n",
       "      <th>2001-10-17</th>\n",
       "      <td>34.79</td>\n",
       "      <td>34.20</td>\n",
       "    </tr>\n",
       "    <tr>\n",
       "      <th>2001-10-18</th>\n",
       "      <td>34.20</td>\n",
       "      <td>34.04</td>\n",
       "    </tr>\n",
       "    <tr>\n",
       "      <th>2001-10-19</th>\n",
       "      <td>34.00</td>\n",
       "      <td>33.50</td>\n",
       "    </tr>\n",
       "    <tr>\n",
       "      <th>2001-10-22</th>\n",
       "      <td>33.30</td>\n",
       "      <td>32.79</td>\n",
       "    </tr>\n",
       "    <tr>\n",
       "      <th>2001-11-08</th>\n",
       "      <td>33.35</td>\n",
       "      <td>33.70</td>\n",
       "    </tr>\n",
       "    <tr>\n",
       "      <th>...</th>\n",
       "      <td>...</td>\n",
       "      <td>...</td>\n",
       "    </tr>\n",
       "    <tr>\n",
       "      <th>2004-09-21</th>\n",
       "      <td>32.09</td>\n",
       "      <td>32.30</td>\n",
       "    </tr>\n",
       "    <tr>\n",
       "      <th>2004-09-22</th>\n",
       "      <td>32.03</td>\n",
       "      <td>32.16</td>\n",
       "    </tr>\n",
       "    <tr>\n",
       "      <th>2004-09-23</th>\n",
       "      <td>32.11</td>\n",
       "      <td>33.42</td>\n",
       "    </tr>\n",
       "    <tr>\n",
       "      <th>2004-09-24</th>\n",
       "      <td>33.60</td>\n",
       "      <td>34.49</td>\n",
       "    </tr>\n",
       "    <tr>\n",
       "      <th>2004-09-27</th>\n",
       "      <td>34.95</td>\n",
       "      <td>34.93</td>\n",
       "    </tr>\n",
       "  </tbody>\n",
       "</table>\n",
       "<p>498 rows × 2 columns</p>\n",
       "</div>"
      ],
      "text/plain": [
       "             open  close\n",
       "day                     \n",
       "2001-10-17  34.79  34.20\n",
       "2001-10-18  34.20  34.04\n",
       "2001-10-19  34.00  33.50\n",
       "2001-10-22  33.30  32.79\n",
       "2001-11-08  33.35  33.70\n",
       "...           ...    ...\n",
       "2004-09-21  32.09  32.30\n",
       "2004-09-22  32.03  32.16\n",
       "2004-09-23  32.11  33.42\n",
       "2004-09-24  33.60  34.49\n",
       "2004-09-27  34.95  34.93\n",
       "\n",
       "[498 rows x 2 columns]"
      ]
     },
     "execution_count": 23,
     "metadata": {},
     "output_type": "execute_result"
    }
   ],
   "source": [
    "贵州茅台.query('open<35 and close<35')[['open','close']]"
   ]
  },
  {
   "cell_type": "code",
   "execution_count": 24,
   "metadata": {},
   "outputs": [
    {
     "data": {
      "text/html": [
       "<div>\n",
       "<style scoped>\n",
       "    .dataframe tbody tr th:only-of-type {\n",
       "        vertical-align: middle;\n",
       "    }\n",
       "\n",
       "    .dataframe tbody tr th {\n",
       "        vertical-align: top;\n",
       "    }\n",
       "\n",
       "    .dataframe thead th {\n",
       "        text-align: right;\n",
       "    }\n",
       "</style>\n",
       "<table border=\"1\" class=\"dataframe\">\n",
       "  <thead>\n",
       "    <tr style=\"text-align: right;\">\n",
       "      <th></th>\n",
       "      <th>STOCK_CODE</th>\n",
       "      <th>open</th>\n",
       "      <th>close</th>\n",
       "      <th>maximum</th>\n",
       "      <th>minimum</th>\n",
       "      <th>volume</th>\n",
       "      <th>TURNOVER</th>\n",
       "    </tr>\n",
       "    <tr>\n",
       "      <th>day</th>\n",
       "      <th></th>\n",
       "      <th></th>\n",
       "      <th></th>\n",
       "      <th></th>\n",
       "      <th></th>\n",
       "      <th></th>\n",
       "      <th></th>\n",
       "    </tr>\n",
       "  </thead>\n",
       "  <tbody>\n",
       "    <tr>\n",
       "      <th>2010-05-24</th>\n",
       "      <td>6005191</td>\n",
       "      <td>134.99</td>\n",
       "      <td>135.97</td>\n",
       "      <td>136.50</td>\n",
       "      <td>134.30</td>\n",
       "      <td>29783</td>\n",
       "      <td>404173632</td>\n",
       "    </tr>\n",
       "    <tr>\n",
       "      <th>2015-12-24</th>\n",
       "      <td>6005191</td>\n",
       "      <td>223.98</td>\n",
       "      <td>224.78</td>\n",
       "      <td>225.68</td>\n",
       "      <td>223.20</td>\n",
       "      <td>15578</td>\n",
       "      <td>350137312</td>\n",
       "    </tr>\n",
       "    <tr>\n",
       "      <th>2011-04-29</th>\n",
       "      <td>6005191</td>\n",
       "      <td>178.40</td>\n",
       "      <td>182.31</td>\n",
       "      <td>183.09</td>\n",
       "      <td>177.68</td>\n",
       "      <td>22084</td>\n",
       "      <td>401140720</td>\n",
       "    </tr>\n",
       "    <tr>\n",
       "      <th>2012-08-01</th>\n",
       "      <td>6005191</td>\n",
       "      <td>246.18</td>\n",
       "      <td>243.05</td>\n",
       "      <td>248.63</td>\n",
       "      <td>241.89</td>\n",
       "      <td>26715</td>\n",
       "      <td>654397920</td>\n",
       "    </tr>\n",
       "    <tr>\n",
       "      <th>2009-05-27</th>\n",
       "      <td>6005191</td>\n",
       "      <td>113.13</td>\n",
       "      <td>114.77</td>\n",
       "      <td>115.52</td>\n",
       "      <td>112.95</td>\n",
       "      <td>27630</td>\n",
       "      <td>316980544</td>\n",
       "    </tr>\n",
       "    <tr>\n",
       "      <th>2009-12-08</th>\n",
       "      <td>6005191</td>\n",
       "      <td>176.57</td>\n",
       "      <td>174.56</td>\n",
       "      <td>178.00</td>\n",
       "      <td>173.50</td>\n",
       "      <td>26144</td>\n",
       "      <td>456591104</td>\n",
       "    </tr>\n",
       "    <tr>\n",
       "      <th>2002-06-07</th>\n",
       "      <td>6005191</td>\n",
       "      <td>34.80</td>\n",
       "      <td>34.92</td>\n",
       "      <td>35.16</td>\n",
       "      <td>34.61</td>\n",
       "      <td>3622</td>\n",
       "      <td>12686067</td>\n",
       "    </tr>\n",
       "    <tr>\n",
       "      <th>2017-12-04</th>\n",
       "      <td>6005191</td>\n",
       "      <td>623.95</td>\n",
       "      <td>637.79</td>\n",
       "      <td>644.10</td>\n",
       "      <td>616.72</td>\n",
       "      <td>54268</td>\n",
       "      <td>3436687376</td>\n",
       "    </tr>\n",
       "    <tr>\n",
       "      <th>2017-01-23</th>\n",
       "      <td>6005191</td>\n",
       "      <td>356.88</td>\n",
       "      <td>351.22</td>\n",
       "      <td>359.80</td>\n",
       "      <td>349.46</td>\n",
       "      <td>32581</td>\n",
       "      <td>1151869296</td>\n",
       "    </tr>\n",
       "    <tr>\n",
       "      <th>2005-09-08</th>\n",
       "      <td>6005191</td>\n",
       "      <td>50.54</td>\n",
       "      <td>50.03</td>\n",
       "      <td>50.54</td>\n",
       "      <td>49.71</td>\n",
       "      <td>6308</td>\n",
       "      <td>31589421</td>\n",
       "    </tr>\n",
       "  </tbody>\n",
       "</table>\n",
       "</div>"
      ],
      "text/plain": [
       "            STOCK_CODE    open   close  maximum  minimum  volume    TURNOVER\n",
       "day                                                                         \n",
       "2010-05-24     6005191  134.99  135.97   136.50   134.30   29783   404173632\n",
       "2015-12-24     6005191  223.98  224.78   225.68   223.20   15578   350137312\n",
       "2011-04-29     6005191  178.40  182.31   183.09   177.68   22084   401140720\n",
       "2012-08-01     6005191  246.18  243.05   248.63   241.89   26715   654397920\n",
       "2009-05-27     6005191  113.13  114.77   115.52   112.95   27630   316980544\n",
       "2009-12-08     6005191  176.57  174.56   178.00   173.50   26144   456591104\n",
       "2002-06-07     6005191   34.80   34.92    35.16    34.61    3622    12686067\n",
       "2017-12-04     6005191  623.95  637.79   644.10   616.72   54268  3436687376\n",
       "2017-01-23     6005191  356.88  351.22   359.80   349.46   32581  1151869296\n",
       "2005-09-08     6005191   50.54   50.03    50.54    49.71    6308    31589421"
      ]
     },
     "execution_count": 24,
     "metadata": {},
     "output_type": "execute_result"
    }
   ],
   "source": [
    "贵州茅台.sample(10)"
   ]
  },
  {
   "cell_type": "code",
   "execution_count": 25,
   "metadata": {},
   "outputs": [
    {
     "name": "stdout",
     "output_type": "stream",
     "text": [
      "<class 'pandas.core.frame.DataFrame'>\n",
      "Index: 4094 entries, 2001-08-27 to 2018-11-02\n",
      "Data columns (total 7 columns):\n",
      " #   Column      Non-Null Count  Dtype  \n",
      "---  ------      --------------  -----  \n",
      " 0   STOCK_CODE  4094 non-null   int64  \n",
      " 1   open        4094 non-null   float64\n",
      " 2   close       4094 non-null   float64\n",
      " 3   maximum     4094 non-null   float64\n",
      " 4   minimum     4094 non-null   float64\n",
      " 5   volume      4094 non-null   int64  \n",
      " 6   TURNOVER    4094 non-null   int64  \n",
      "dtypes: float64(4), int64(3)\n",
      "memory usage: 384.9+ KB\n"
     ]
    }
   ],
   "source": [
    "贵州茅台.info()"
   ]
  },
  {
   "cell_type": "code",
   "execution_count": 26,
   "metadata": {},
   "outputs": [
    {
     "data": {
      "text/plain": [
       "count    4094.000000\n",
       "mean      182.161910\n",
       "std       165.857882\n",
       "min        20.900000\n",
       "25%        47.405000\n",
       "50%       159.930000\n",
       "75%       208.500000\n",
       "max       800.000000\n",
       "Name: open, dtype: float64"
      ]
     },
     "execution_count": 26,
     "metadata": {},
     "output_type": "execute_result"
    }
   ],
   "source": [
    "贵州茅台['open'].describe()"
   ]
  },
  {
   "cell_type": "code",
   "execution_count": 27,
   "metadata": {},
   "outputs": [],
   "source": [
    "result=贵州茅台['open'].unique()"
   ]
  },
  {
   "cell_type": "code",
   "execution_count": 28,
   "metadata": {},
   "outputs": [],
   "source": [
    "result2=贵州茅台['open'].nunique()"
   ]
  },
  {
   "cell_type": "code",
   "execution_count": 29,
   "metadata": {},
   "outputs": [],
   "source": [
    "result3=贵州茅台['open'].value_counts"
   ]
  },
  {
   "cell_type": "code",
   "execution_count": 30,
   "metadata": {},
   "outputs": [
    {
     "data": {
      "text/plain": [
       "name\n",
       "A    1\n",
       "B    2\n",
       "C    1\n",
       "Name: vaule, dtype: int64"
      ]
     },
     "execution_count": 30,
     "metadata": {},
     "output_type": "execute_result"
    }
   ],
   "source": [
    "df=pd.DataFrame({\n",
    "    \"name\":[\"A\",\"B\",\"C\",\"B\",\"C\",\"A\",\"C\"],\n",
    "    \"vaule\":[1,3,7,2,4,3,1]\n",
    "})\n",
    "df.groupby(\"name\")[\"vaule\"].min()"
   ]
  }
 ],
 "metadata": {
  "kernelspec": {
   "display_name": "Python 3",
   "language": "python",
   "name": "python3"
  },
  "language_info": {
   "codemirror_mode": {
    "name": "ipython",
    "version": 3
   },
   "file_extension": ".py",
   "mimetype": "text/x-python",
   "name": "python",
   "nbconvert_exporter": "python",
   "pygments_lexer": "ipython3",
   "version": "3.8.10"
  },
  "orig_nbformat": 4
 },
 "nbformat": 4,
 "nbformat_minor": 2
}
