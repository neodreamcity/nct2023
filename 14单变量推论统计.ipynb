{
 "cells": [
  {
   "cell_type": "code",
   "execution_count": 1,
   "metadata": {},
   "outputs": [
    {
     "name": "stdout",
     "output_type": "stream",
     "text": [
      "均值：7.20\n",
      "均值在置信水平0.95下的置信区间为： (7.171337577574299, 7.221418479034002)\n"
     ]
    }
   ],
   "source": [
    "import pandas as pd\n",
    "from scipy import stats\n",
    "#打开数据文件\n",
    "file_path =R'movie_data_cleaned.csv' \n",
    "df_movies = pd.read_csv(file_path)\n",
    "#计算均值和标准误差\n",
    "mean = df_movies['average'].mean()\n",
    "std_error = stats.sem(df_movies['average'])\n",
    "#设定置信水平\n",
    "confidence_level = 0.95\n",
    "#设定自由度\n",
    "自由度 = len(df_movies['average'])\n",
    "#计算置信区间\n",
    "confidence_interval = stats.t.interval(confidence_level,自由度,loc=mean,scale = std_error)\n",
    "#输出结果\n",
    "print(F\"均值：{mean:.2f}\")\n",
    "print(F\"均值在置信水平{confidence_level}下的置信区间为：\",confidence_interval)"
   ]
  },
  {
   "cell_type": "code",
   "execution_count": 2,
   "metadata": {},
   "outputs": [
    {
     "name": "stdout",
     "output_type": "stream",
     "text": [
      "变量open均值：182.16\n",
      "均值在置信水平0.95下的置信区间为： (177.07986246146626, 187.24395776325284)\n"
     ]
    },
    {
     "data": {
      "text/plain": [
       "(182.16191011235955, (177.07986246146626, 187.24395776325284))"
      ]
     },
     "execution_count": 2,
     "metadata": {},
     "output_type": "execute_result"
    }
   ],
   "source": [
    "import mytools2\n",
    "mytools2.单变量推论统计(R'600519.csv','open')"
   ]
  }
 ],
 "metadata": {
  "kernelspec": {
   "display_name": "Python 3",
   "language": "python",
   "name": "python3"
  },
  "language_info": {
   "codemirror_mode": {
    "name": "ipython",
    "version": 3
   },
   "file_extension": ".py",
   "mimetype": "text/x-python",
   "name": "python",
   "nbconvert_exporter": "python",
   "pygments_lexer": "ipython3",
   "version": "3.8.10"
  }
 },
 "nbformat": 4,
 "nbformat_minor": 2
}
