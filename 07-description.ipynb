{
 "cells": [
  {
   "cell_type": "code",
   "execution_count": 21,
   "metadata": {},
   "outputs": [],
   "source": [
    "import pyreadstat\n",
    "import pandas as pd"
   ]
  },
  {
   "cell_type": "code",
   "execution_count": 22,
   "metadata": {},
   "outputs": [],
   "source": [
    "df=pd.read_spss(R'E:\\data\\identity.sav')"
   ]
  },
  {
   "cell_type": "code",
   "execution_count": 23,
   "metadata": {},
   "outputs": [
    {
     "data": {
      "text/plain": [
       "政治面貌\n",
       "团员    0.734104\n",
       "党员    0.130636\n",
       "群众    0.110983\n",
       "其他    0.024277\n",
       "Name: proportion, dtype: float64"
      ]
     },
     "execution_count": 23,
     "metadata": {},
     "output_type": "execute_result"
    }
   ],
   "source": [
    "df['政治面貌'].value_counts(normalize=True)"
   ]
  },
  {
   "cell_type": "code",
   "execution_count": 24,
   "metadata": {},
   "outputs": [],
   "source": [
    "import matplotlib.pyplot as plt \n",
    "import pandas as pd \n"
   ]
  },
  {
   "cell_type": "code",
   "execution_count": 25,
   "metadata": {},
   "outputs": [],
   "source": [
    "def plot_variable_pie(data_table,variable): \n",
    "    #准备绘图数据 \n",
    "    data =data_table[variable].value_counts() \n",
    "    #创建饼图 \n",
    "    fig1,ax1= plt.subplots() \n",
    "    ax1.pie(data,labels=data.index,autopct='%1.1f%%') \n",
    "    plt.axis('equal') \n",
    "    plt.title('Pie Chart of'+variable) \n",
    "    plt.show() \n",
    "    df2 = pd.read_spss(R'E:\\data\\identity.sav') \n",
    "    df2['政治面貌'].value_counts() \n",
    "    import mytools \n",
    "    df2.meta =mytools.读取SPSS数据(R'E:\\data\\identity.sav')\n",
    "    plot_variable_pie(df2,'政治面貌')\n",
    "\n"
   ]
  }
 ],
 "metadata": {
  "kernelspec": {
   "display_name": "Python 3",
   "language": "python",
   "name": "python3"
  },
  "language_info": {
   "codemirror_mode": {
    "name": "ipython",
    "version": 3
   },
   "file_extension": ".py",
   "mimetype": "text/x-python",
   "name": "python",
   "nbconvert_exporter": "python",
   "pygments_lexer": "ipython3",
   "version": "3.8.10"
  }
 },
 "nbformat": 4,
 "nbformat_minor": 2
}
